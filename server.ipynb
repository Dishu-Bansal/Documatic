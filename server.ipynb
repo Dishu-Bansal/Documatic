{
 "cells": [
  {
   "cell_type": "code",
   "execution_count": 1,
   "id": "0134f2a4-e33b-43e0-ad60-4f0f60759a1f",
   "metadata": {},
   "outputs": [
    {
     "name": "stderr",
     "output_type": "stream",
     "text": [
      "t=2025-01-12T17:46:17-0500 lvl=warn msg=\"ngrok config file found at both XDG and legacy locations, using XDG location\" xdg_path=C:\\\\Users\\\\Dishu\\\\AppData\\\\Local/ngrok/ngrok.yml legacy_path=C:\\\\Users\\\\Dishu\\\\.ngrok2\\\\ngrok.yml\n"
     ]
    },
    {
     "name": "stdout",
     "output_type": "stream",
     "text": [
      "Requirement already satisfied: pyngrok in d:\\special\\documatic\\.venv\\lib\\site-packages (7.2.3)\n",
      "Requirement already satisfied: PyYAML>=5.1 in d:\\special\\documatic\\.venv\\lib\\site-packages (from pyngrok) (6.0.2)\n",
      "Note: you may need to restart the kernel to use updated packages.\n",
      "Public URL: NgrokTunnel: \"https://adf5-184-146-219-23.ngrok-free.app\" -> \"http://localhost:5000\"\n"
     ]
    }
   ],
   "source": [
    "# Install the pyngrok library\n",
    "%pip install pyngrok\n",
    "\n",
    "from pyngrok import ngrok\n",
    "\n",
    "# Set the authentication token\n",
    "ngrok.set_auth_token(\"1b2lUYKoaqg4mlHI5xrBxiBsLJi_3rVfdqMPwZoqqMKR19861\")  # Replace with your actual token\n",
    "\n",
    "# Open a tunnel to the API port\n",
    "public_url = ngrok.connect(5000)\n",
    "print(\"Public URL:\", public_url)\n"
   ]
  },
  {
   "cell_type": "code",
   "execution_count": null,
   "id": "92ba3b8b-6ce9-407e-8ca2-25a562fe051e",
   "metadata": {},
   "outputs": [],
   "source": []
  }
 ],
 "metadata": {
  "kernelspec": {
   "display_name": ".venv",
   "language": "python",
   "name": "python3"
  },
  "language_info": {
   "codemirror_mode": {
    "name": "ipython",
    "version": 3
   },
   "file_extension": ".py",
   "mimetype": "text/x-python",
   "name": "python",
   "nbconvert_exporter": "python",
   "pygments_lexer": "ipython3",
   "version": "3.10.14"
  }
 },
 "nbformat": 4,
 "nbformat_minor": 5
}
